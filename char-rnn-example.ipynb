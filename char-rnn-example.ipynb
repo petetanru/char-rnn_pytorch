{
 "cells": [
  {
   "cell_type": "markdown",
   "metadata": {},
   "source": [
    "# Char-RNN in Pytorch: The Wisdom of Marx\n",
    "\n",
    "Let's try to implement to implement [Andrej's minmal char-RNN](https://gist.github.com/karpathy/d4dee566867f8291f086) to generate text in Pytorch! The difference is that we'll use LSTM layers instead of vanilla RNN, and we'll do it in batches with GPU. \n",
    "\n",
    "Compared to the [Intermediate RNN tutorials on Pytorch's website](http://pytorch.org/tutorials/), the main difference is that this tutorial will take more advantage of the GPU, by taking in multiple words/characters at a time, and in batches.  "
   ]
  },
  {
   "cell_type": "markdown",
   "metadata": {},
   "source": [
    "### Loading the Data\n",
    "First we acquire the MS word version of [Das Kapital Volume 1](https://www.marxists.org/archive/marx/works/1867-c1/) and turned it into a text format that we can load. Let's see a snippet of it as well.  "
   ]
  },
  {
   "cell_type": "code",
   "execution_count": 1,
   "metadata": {},
   "outputs": [
    {
     "data": {
      "text/plain": [
       "'Chapter 1: Commodities\\nSection 1: The Two Factors of a Commodity:\\nUse-Value and Value\\n(The Substance of Value and the Magnitude of Value)\\nThe wealth of those societies in which the capitalist mode of production prevails, presents itself as \\x93an immense accumulation of commodities,\\x941 its unit being a single commodity. Our investigation must therefore begin with the analysis of a commodity. \\nA commodity is, in the first place, an object outside us, a thing that by its properties satisfies human wants of some sort or another. The nature of such wants, whether, for instance, they spring from the stomach or from fancy, makes no difference.2 Neither are we here concerned to know how the object satisfies these wants, whether directly as means of subsistence, or indirectly as means of production. \\nEvery useful thing, as iron, paper, &c., may be looked at from the two points of view of quality and quantity. It is an assemblage of many properties, and may therefore be of use in various ways. To d'"
      ]
     },
     "execution_count": 1,
     "metadata": {},
     "output_type": "execute_result"
    }
   ],
   "source": [
    "raw_text = open('capital-vol1.txt', encoding='latin-1', mode='r').read()\n",
    "raw_text[:1000]"
   ]
  },
  {
   "cell_type": "markdown",
   "metadata": {},
   "source": [
    "Interesting! Let's print out all the characters in the text to see what we will be getting rid of."
   ]
  },
  {
   "cell_type": "code",
   "execution_count": 2,
   "metadata": {},
   "outputs": [
    {
     "name": "stdout",
     "output_type": "stream",
     "text": [
      "corpus has 1468303 letters altogether\n",
      "corpus has 108 unique characters: ['\\n', ' ', '!', '\"', '%', '&', \"'\", '(', ')', '*', '+', ',', '-', '.', '/', '0', '1', '2', '3', '4', '5', '6', '7', '8', '9', ':', ';', '=', '?', 'A', 'B', 'C', 'D', 'E', 'F', 'G', 'H', 'I', 'J', 'K', 'L', 'M', 'N', 'O', 'P', 'Q', 'R', 'S', 'T', 'U', 'V', 'W', 'X', 'Y', 'Z', '[', ']', 'a', 'b', 'c', 'd', 'e', 'f', 'g', 'h', 'i', 'j', 'k', 'l', 'm', 'n', 'o', 'p', 'q', 'r', 's', 't', 'u', 'v', 'w', 'x', 'y', 'z', '{', '}', '\\x91', '\\x92', '\\x93', '\\x94', '\\x96', '\\xa0', '£', '°', '¼', '½', '¾', '×', 'à', 'â', 'æ', 'è', 'é', 'ê', 'î', 'ï', 'ô', 'û', 'ü']\n"
     ]
    }
   ],
   "source": [
    "chars = sorted(set(raw_text))\n",
    "print('corpus has ' + str(len(raw_text)) + ' letters altogether')\n",
    "print ('corpus has ' + str(len(chars)) + ' unique characters:', chars)"
   ]
  },
  {
   "cell_type": "markdown",
   "metadata": {},
   "source": [
    "First we'll clean up the text so that our output is limited to lower cased english characters plus simple punctuations. The cleaning function is taken from [stackoverflow](#https://stackoverflow.com/questions/517923/what-is-the-best-way-to-remove-accents-in-a-python-unicode-string)."
   ]
  },
  {
   "cell_type": "code",
   "execution_count": 3,
   "metadata": {},
   "outputs": [
    {
     "name": "stdout",
     "output_type": "stream",
     "text": [
      "corpus has 1427555 letters altogether\n",
      "corpus has 32 unique characters after cleaning: {';', 'y', 'i', 'o', 's', 'g', 'd', 'z', 't', 'b', 'a', 'k', 'r', 'p', 'c', 'u', 'w', '-', 'f', 'n', 'q', 'm', 'e', 'l', 'v', ',', 'j', \"'\", '.', 'h', 'x', ' '}\n"
     ]
    }
   ],
   "source": [
    "import unicodedata\n",
    "import string\n",
    "\n",
    "all_letters = string.ascii_lowercase + \" .,;'-\"\n",
    "n_letters = len(all_letters)\n",
    "\n",
    "def unicodeToAscii(s):\n",
    "    return ''.join(\n",
    "        c for c in unicodedata.normalize('NFD', s)\n",
    "        if unicodedata.category(c) != 'Mn'\n",
    "        and c in all_letters\n",
    "    )\n",
    "\n",
    "text = unicodeToAscii(raw_text)\n",
    "text_length = len(text)\n",
    "print('corpus has ' + str(text_length) + ' letters altogether')\n",
    "print ('corpus has ' + str(len(set(text))) + ' unique characters after cleaning:', set(text))"
   ]
  },
  {
   "cell_type": "markdown",
   "metadata": {},
   "source": [
    "Nice, though we can probably expect certain words with non-english characters to be misspelled. "
   ]
  },
  {
   "cell_type": "markdown",
   "metadata": {},
   "source": [
    "### Converting text to vectors\n",
    "\n",
    "To create out dataset, we begin by creating a list of inputs and outputs. Our input should be a string of text, say 100 characters long (we will call this sequence length), and the output should be the next character following it. We can decide how many samples we want and how redundant they should be with the step size. The step size indicates how many characters we move ahead for every sample we create."
   ]
  },
  {
   "cell_type": "code",
   "execution_count": 4,
   "metadata": {},
   "outputs": [
    {
     "name": "stdout",
     "output_type": "stream",
     "text": [
      "sample size =  6 ['hello', 'ello ', 'llo w', 'lo wo', 'o wor', ' worl']\n",
      "sample size =  6 [' ', 'w', 'o', 'r', 'l', 'd']\n"
     ]
    }
   ],
   "source": [
    "def textToWin(text, seq_len, step_size):\n",
    "    inputs = []\n",
    "    outputs = []\n",
    "    for i in range(0, len(text) - seq_len, step_size):\n",
    "        window = text[i:seq_len+i]\n",
    "        inputs.append(window)\n",
    "    outputs = [i for i in text[seq_len::step_size]]\n",
    "    return inputs, outputs\n",
    "\n",
    "inptest, outtest = textToWin('hello world', 5, 1)\n",
    "print(\"sample size = \", len(inptest), inptest)\n",
    "print(\"sample size = \", len(outtest), outtest)"
   ]
  },
  {
   "cell_type": "markdown",
   "metadata": {},
   "source": [
    "Next we incorporate the previous function and turn the outputted list of strings into tensors of indices (aka vectors), so that our model can process them. "
   ]
  },
  {
   "cell_type": "code",
   "execution_count": 5,
   "metadata": {
    "collapsed": true
   },
   "outputs": [],
   "source": [
    "#setup idx and char mapping \n",
    "chars_to_idx = dict((c, i) for i, c in enumerate(all_letters))\n",
    "idx_to_chars = dict((i, c) for i, c in enumerate(all_letters))"
   ]
  },
  {
   "cell_type": "code",
   "execution_count": 6,
   "metadata": {},
   "outputs": [
    {
     "name": "stdout",
     "output_type": "stream",
     "text": [
      "\n",
      "  7   4  11  11  14\n",
      " 11  11  14  26  22\n",
      " 14  26  22  14  17\n",
      "[torch.LongTensor of size 3x5]\n",
      " \n",
      " 26\n",
      " 14\n",
      " 11\n",
      "[torch.LongTensor of size 3]\n",
      "\n"
     ]
    }
   ],
   "source": [
    "import torch\n",
    "\n",
    "def textToTensor(text, seq_len, step_size):\n",
    "    inputs, outputs = textToWin(text, seq_len, step_size)\n",
    "    X = torch.zeros(len(inputs), seq_len).long()\n",
    "    y = torch.zeros(len(inputs)).long()\n",
    "    for i, seq in enumerate(inputs):\n",
    "        for t, char in enumerate(seq):\n",
    "            X[i, t] = chars_to_idx[seq[t]]\n",
    "        y[i] = chars_to_idx[outputs[i]]\n",
    "    # outputs X, y - (sample_size, seq_len), (sample_size) with value 0 < c < n_letters\n",
    "    return X, y\n",
    "\n",
    "test_text = \"hello world\"\n",
    "testX, testy = textToTensor(test_text, 5, 2)\n",
    "print(testX, testy)"
   ]
  },
  {
   "cell_type": "markdown",
   "metadata": {},
   "source": [
    "We use the previous function to get the total sample size and split them into training set and valuation set. We roll the data set out in mini-batches by packing them into batch-sized generators.  We enumerate through the packed geneator to get X of (batch_size, seq_len) shape and y of (batch_size). Realize that taking the total sample size of the unpacked X and dividing that by the batch size gives us about the same number as the length of the packed X and y combine. It is slightly less because we tell it to drop the last batch if its size differs from the rest. "
   ]
  },
  {
   "cell_type": "code",
   "execution_count": 66,
   "metadata": {},
   "outputs": [
    {
     "name": "stdout",
     "output_type": "stream",
     "text": [
      "929.333984375\n",
      "928\n"
     ]
    }
   ],
   "source": [
    "import torch.utils.data\n",
    "N = 512\n",
    "W = 100\n",
    "step_size=3\n",
    "\n",
    "X, y = textToTensor(text, W, step_size)\n",
    "sample_size = len(y)\n",
    "train_size = int(0.9*sample_size)\n",
    "\n",
    "X_train, y_train = X[:train_size], y[:train_size]\n",
    "X_val, y_val = X[train_size:], y[train_size:]\n",
    "\n",
    "train_dataset = torch.utils.data.TensorDataset(X_train, y_train)\n",
    "val_dataset = torch.utils.data.TensorDataset(X_val, y_val)\n",
    "\n",
    "train_loader = torch.utils.data.DataLoader(train_dataset, batch_size=N, num_workers=1, pin_memory=True, drop_last=True)\n",
    "val_loader = torch.utils.data.DataLoader(val_dataset, batch_size=N, num_workers=1, pin_memory=True, drop_last=True)\n",
    "\n",
    "print (len(X)/N)\n",
    "print(len(train_loader) + len(val_loader))"
   ]
  },
  {
   "cell_type": "markdown",
   "metadata": {},
   "source": [
    "### The Model "
   ]
  },
  {
   "cell_type": "code",
   "execution_count": 67,
   "metadata": {
    "collapsed": true
   },
   "outputs": [],
   "source": [
    "import random\n",
    "import torch.nn as nn\n",
    "import torch.optim as optim\n",
    "from torch.autograd import Variable\n",
    "\n",
    "import time\n",
    "\n",
    "# we will need to specifiy the variables as cuda to utilize GPU\n",
    "cudafloat = torch.cuda.FloatTensor \n",
    "cudalong = torch.cuda.LongTensor\n",
    "\n",
    "'''\n",
    "W, H, N = seq_length, hidden_size, batch_size\n",
    "'''\n",
    "\n",
    "class LSTMText(nn.Module):\n",
    "    def __init__(self, W, H, n_layers, N, dropout, num_embed=n_letters):\n",
    "        super(LSTMText, self).__init__()\n",
    "        self.num_embed = num_embed\n",
    "        self.embed_dim = H\n",
    "        self.H = H\n",
    "        self.n_layers = n_layers\n",
    "        self.W = W\n",
    "        self.out_dim = num_embed\n",
    "        self.N = N\n",
    "        \n",
    "        self.encoder = nn.Embedding(num_embed, self.embed_dim)\n",
    "        self.lstm = nn.LSTM(self.embed_dim, H, n_layers, dropout=dropout)\n",
    "        self.decoder = nn.Linear(H, self.out_dim)\n",
    "        self.dropout = nn.Dropout(dropout)\n",
    "        self.logsoftmax = nn.LogSoftmax()\n",
    "        \n",
    "    def init_hidden(self):\n",
    "        h0 = Variable(torch.zeros(n_layers, N, H).type(cudafloat))\n",
    "        c0 = Variable(torch.zeros(n_layers, N, H).type(cudafloat))\n",
    "        return h0, c0\n",
    "    \n",
    "    def forward(self, inputs, hidden):                  \n",
    "        embed = self.encoder(inputs)     # (N, W) => (N, W, embed_dim) \n",
    "        embed = embed.view(N, W, H)      # maintains 3D when N=1\n",
    "        embed = embed.permute(1, 0, 2)   # (N, W, embed_dim) => (W, N, embed_dim)\n",
    "        output, hidden = self.lstm(embed, hidden)   # (W, N, embed_dim) => (W, N, H)\n",
    "        output = output[W-1, :, :]        # select  last vector of W (last character)\n",
    "        decoded = self.decoder(output)              # (N, H) => (N, out_dim)\n",
    "        pred = self.logsoftmax(decoded)\n",
    "        \n",
    "        return pred, hidden"
   ]
  },
  {
   "cell_type": "markdown",
   "metadata": {},
   "source": [
    "This function disconnect the hidden cells from its history. We need this because we do not ned to backpropagate through the entire history of updates to the hidden cells. \n",
    "[source](https://discuss.pytorch.org/t/help-clarifying-repackage-hidden-in-word-language-model/226/2)"
   ]
  },
  {
   "cell_type": "code",
   "execution_count": 68,
   "metadata": {
    "collapsed": true
   },
   "outputs": [],
   "source": [
    "def repackage_hidden(h):\n",
    "    \"\"\"Wraps hidden states in new Variables, to detach them from their history.\"\"\"\n",
    "    \"\"\"source: https://github.com/pytorch/examples/tree/master/word_language_model\"\"\"\n",
    "    if type(h) == Variable:\n",
    "        return Variable(h.data)\n",
    "    else:\n",
    "        return tuple(repackage_hidden(v) for v in h)"
   ]
  },
  {
   "cell_type": "markdown",
   "metadata": {},
   "source": [
    "Next we instantiate the model and send it to the GPU with model.cuda(), and specify our update method and loss function. "
   ]
  },
  {
   "cell_type": "code",
   "execution_count": 69,
   "metadata": {
    "collapsed": true
   },
   "outputs": [],
   "source": [
    "learning_rate = 1e-3\n",
    "W = W\n",
    "H = 500\n",
    "n_layers = 2\n",
    "dropout = 0.3\n",
    "\n",
    "model = LSTMText(W=W, H=H, n_layers=n_layers, N=N, dropout=dropout)\n",
    "model.cuda()\n",
    "optimizer = optim.RMSprop(model.parameters(), lr=learning_rate)\n",
    "criterion = nn.NLLLoss(size_average=True)"
   ]
  },
  {
   "cell_type": "markdown",
   "metadata": {},
   "source": [
    "Let's train! "
   ]
  },
  {
   "cell_type": "code",
   "execution_count": 70,
   "metadata": {},
   "outputs": [
    {
     "name": "stdout",
     "output_type": "stream",
     "text": [
      "[1] train loss: 1.476 val loss: 1.460 time: 163.152\n",
      "saving least val loss model from epoch [1]\n",
      "[2] train loss: 1.212 val loss: 1.389 time: 165.259\n",
      "saving least val loss model from epoch [2]\n",
      "[3] train loss: 1.136 val loss: 1.351 time: 166.735\n",
      "saving least val loss model from epoch [3]\n",
      "[4] train loss: 1.086 val loss: 1.336 time: 167.744\n",
      "saving least val loss model from epoch [4]\n",
      "[5] train loss: 1.049 val loss: 1.328 time: 167.248\n",
      "saving least val loss model from epoch [5]\n",
      "[6] train loss: 1.017 val loss: 1.324 time: 167.107\n",
      "saving least val loss model from epoch [6]\n",
      "[7] train loss: 0.991 val loss: 1.324 time: 167.117\n",
      "saving least val loss model from epoch [7]\n",
      "[8] train loss: 0.967 val loss: 1.328 time: 167.026\n",
      "[9] train loss: 0.946 val loss: 1.335 time: 166.811\n",
      "[10] train loss: 0.928 val loss: 1.344 time: 167.257\n",
      "[11] train loss: 0.911 val loss: 1.356 time: 166.953\n",
      "[12] train loss: 0.894 val loss: 1.357 time: 167.223\n",
      "[13] train loss: 0.879 val loss: 1.369 time: 167.178\n",
      "[14] train loss: 0.866 val loss: 1.381 time: 167.032\n",
      "[15] train loss: 0.854 val loss: 1.391 time: 165.117\n",
      "[16] train loss: 0.842 val loss: 1.404 time: 164.614\n",
      "[17] train loss: 0.831 val loss: 1.407 time: 163.709\n",
      "[18] train loss: 0.822 val loss: 1.420 time: 163.526\n",
      "[19] train loss: 0.812 val loss: 1.429 time: 163.468\n",
      "[20] train loss: 0.803 val loss: 1.440 time: 163.551\n"
     ]
    }
   ],
   "source": [
    "import matplotlib.pyplot as plt\n",
    "\n",
    "graph_train, graph_val = [], []\n",
    "best_val_loss = 100.0\n",
    "n_epochs = 20\n",
    "for epoch in range(n_epochs):\n",
    "    start_time = time.time()\n",
    "    train_loss, train_acc = 0.0, 0.0\n",
    "    val_loss, val_acc = 0.0, 0.0\n",
    "    hidden = model.init_hidden()\n",
    "    \n",
    "    # train\n",
    "    model.train()\n",
    "    for batch_idx, (data, target) in enumerate(train_loader):\n",
    "        # send input to GPU and wrap in torch Variable\n",
    "        data, target = data.cuda(), target.cuda()\n",
    "        data, target = Variable(data), Variable(target)\n",
    "             \n",
    "        # forward, backward, optimize\n",
    "        hidden = repackage_hidden(hidden)\n",
    "        output, hidden = model(data, hidden)\n",
    "        loss = criterion(output, target)\n",
    "\n",
    "        optimizer.zero_grad()\n",
    "        loss.backward()\n",
    "        optimizer.step()\n",
    "        \n",
    "        train_loss += loss.data[0]/len(train_loader)\n",
    "    \n",
    "    \n",
    "    # evaluate with validation set\n",
    "    model.eval()\n",
    "    for batch_idx, (data, target) in enumerate(val_loader):\n",
    "        # send input to GPU and wrap in torch Variable\n",
    "        data, target = data.cuda(), target.cuda()\n",
    "        data, target = Variable(data, volatile=True), Variable(target)\n",
    "             \n",
    "        # forward, backward, optimize\n",
    "        hidden = repackage_hidden(hidden)\n",
    "        output, hidden = model(data, hidden)\n",
    "        loss = criterion(output, target)\n",
    "       \n",
    "        val_loss += loss.data[0]/len(val_loader)\n",
    "    \n",
    "    graph_train.append(train_loss)\n",
    "    graph_val.append(val_loss)\n",
    "    \n",
    "    print('[%d] train loss: %.3f val loss: %.3f time: %.3f' % (epoch + 1, train_loss, val_loss, time.time() - start_time))\n",
    "    if val_loss < best_val_loss:\n",
    "        best_val_loss = val_loss\n",
    "        torch.save(model.state_dict(), 'best_loss_weight') \n",
    "        print('saving least val loss model from epoch [%d]'% (epoch+1))"
   ]
  },
  {
   "cell_type": "code",
   "execution_count": 71,
   "metadata": {},
   "outputs": [
    {
     "data": {
      "image/png": "[encoded data removed]",
      "text/plain": [
       "<matplotlib.figure.Figure at 0x1a7c18fe518>"
      ]
     },
     "metadata": {},
     "output_type": "display_data"
    }
   ],
   "source": [
    "plt.ylabel('Avg. loss')\n",
    "plt.xlabel('Epoch')\n",
    "plt.plot(graph_train)\n",
    "plt.plot(graph_val)\n",
    "plt.grid(True)\n",
    "plt.show()"
   ]
  },
  {
   "cell_type": "code",
   "execution_count": 72,
   "metadata": {
    "collapsed": true
   },
   "outputs": [],
   "source": [
    "torch.save(model.state_dict(), 'last_weight')"
   ]
  },
  {
   "cell_type": "markdown",
   "metadata": {},
   "source": [
    "### Generating text\n",
    "We create a new model with a batch_size of 1 to take in one sequence of text. "
   ]
  },
  {
   "cell_type": "code",
   "execution_count": 77,
   "metadata": {
    "collapsed": true
   },
   "outputs": [],
   "source": [
    "import sys\n",
    "N = 1\n",
    "\n",
    "model_test = LSTMText(W=W, H=H, n_layers=n_layers, N=N, dropout=dropout)\n",
    "model_test.cuda()\n",
    "model_test.eval()\n",
    "model_test.load_state_dict(torch.load('last_weight'))"
   ]
  },
  {
   "cell_type": "code",
   "execution_count": 78,
   "metadata": {},
   "outputs": [
    {
     "name": "stdout",
     "output_type": "stream",
     "text": [
      "Variable containing:\n",
      "  7\n",
      "  4\n",
      " 11\n",
      " 11\n",
      " 14\n",
      "[torch.cuda.LongTensor of size 5 (GPU 0)]\n",
      "\n"
     ]
    }
   ],
   "source": [
    "def char_tensor(string):\n",
    "    tensor = torch.zeros(len(string)).long().cuda()\n",
    "    for c in range(len(string)):\n",
    "        tensor[c] = chars_to_idx[string[c]]\n",
    "    return Variable(tensor)\n",
    "\n",
    "a = char_tensor('hello')\n",
    "print (a)"
   ]
  },
  {
   "cell_type": "code",
   "execution_count": 79,
   "metadata": {},
   "outputs": [
    {
     "name": "stdout",
     "output_type": "stream",
     "text": [
      "\n",
      "----- temperature: 0.5\n",
      "----- Generating with seed: \"o its inmates. he exchange becomes an accomplished fact by two metamorphoses of opposite yet supplem\"\n",
      "ent. e were received that the compinitation of the most part weekly wages that the conditions of the industrial combinations of the workhouse had done fit for instance, and in the history of wages, and the dead with surplus population, that the former decreasing the present degree of the individual capitals suddenly means of production have been accumulated. he colliers will be invosible to the ab\n",
      "\n",
      "----- temperature: 0.8\n",
      "----- Generating with seed: \"o its inmates. he exchange becomes an accomplished fact by two metamorphoses of opposite yet supplem\"\n",
      "ent to the soil as if the same time a million to the private labourers workshops, and for instance, but in the whole great part of the poorer line. uch additional manufacturers, man and partiarishes the direct and moral less character. o the parish, nay growned up the farmer, may have made him during the expenses of the shorter few during the children than there to the agricultural producers, depe\n",
      "\n",
      "----- temperature: 1.0\n",
      "----- Generating with seed: \"o its inmates. he exchange becomes an accomplished fact by two metamorphoses of opposite yet supplem\"\n",
      "ents. hey did nearly re-trainsances from, there a struggles gave this life, others, and increased, and this, the parish, and with the bentlember, inhabitantens insufficiency necessary to true than  turn is once people is dwilling; on the worst, taken from the ginane means of subsistence and a larger principels. n the one hand, the expenses of equivalence, takes the viltage uncommon by the use of h\n"
     ]
    }
   ],
   "source": [
    "def pred_text(pred_len):\n",
    "    start_index = random.randint(0, len(text) - W - 1)\n",
    "    hidden = model_test.init_hidden()\n",
    "    \n",
    "    for temperature in [0.5, 0.8, 1.0]:\n",
    "        print()\n",
    "        print('----- temperature:', temperature)\n",
    "\n",
    "        textX = text[start_index: start_index + W]\n",
    "        print('----- Generating with seed: \"' + textX + '\"')\n",
    "        inp = char_tensor(textX)\n",
    "        inp = torch.unsqueeze(inp, 0)  # turn a [100] into [1, 100]\n",
    "        \n",
    "        for i in range(pred_len):\n",
    "            # forward pass\n",
    "            hidden = repackage_hidden(hidden)\n",
    "            output, hidden = model_test(inp, hidden)\n",
    "            \n",
    "            # logsoftmax returns negative numbers. we undo that to sample from the array\n",
    "            output_dist = output.view(-1).div(temperature).exp().cpu()\n",
    "            top_i = torch.multinomial(output_dist, 1)[0]\n",
    "            top_num = top_i.data[0]\n",
    "            pred_char = idx_to_chars[top_num]\n",
    "            \n",
    "            # adds the new char to the text and remove the first char\n",
    "            textX += pred_char\n",
    "            textX = textX[1:]\n",
    "            inp = char_tensor(textX)\n",
    "            \n",
    "            # print out the new char\n",
    "            sys.stdout.write(pred_char)\n",
    "            sys.stdout.flush()\n",
    "        print()\n",
    "        \n",
    "pred_text(400)"
   ]
  },
  {
   "cell_type": "code",
   "execution_count": null,
   "metadata": {
    "collapsed": true
   },
   "outputs": [],
   "source": []
  }
 ],
 "metadata": {
  "kernelspec": {
   "display_name": "Python 3",
   "language": "python",
   "name": "python3"
  },
  "language_info": {
   "codemirror_mode": {
    "name": "ipython",
    "version": 3
   },
   "file_extension": ".py",
   "mimetype": "text/x-python",
   "name": "python",
   "nbconvert_exporter": "python",
   "pygments_lexer": "ipython3",
   "version": "3.6.1"
  }
 },
 "nbformat": 4,
 "nbformat_minor": 2
}
